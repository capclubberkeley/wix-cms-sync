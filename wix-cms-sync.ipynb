{
 "cells": [
  {
   "cell_type": "markdown",
   "metadata": {},
   "source": [
    "# Wix CMS Sync\n",
    "\n",
    "Go to the Notion, export CSV with the website view, rename the files, and run the appropriate cell."
   ]
  },
  {
   "cell_type": "code",
   "execution_count": 3,
   "metadata": {},
   "outputs": [],
   "source": [
    "# Clean notion export to fit Wix import mechanics\n",
    "import csv\n",
    "import re\n",
    "import json\n",
    "\n",
    "prefix = 'https://www.notion.so/'\n",
    "\n",
    "with open('members.csv', 'r', encoding='utf-8-sig') as f:\n",
    "    with open('members_new.csv', 'w', encoding='utf-8-sig') as file:\n",
    "        reader = csv.DictReader(f)\n",
    "\n",
    "        fieldnames = ['name', 'status', 'memberSince', 'photo']\n",
    "        writer = csv.DictWriter(file, fieldnames=fieldnames)\n",
    "        writer.writeheader()\n",
    "\n",
    "        for row in reader:\n",
    "            new_row = {}\n",
    "            new_row['name'] = row[\"Name\"]\n",
    "            new_row['photo'] = row['Photo']\n",
    "            status = row['Status'].split(', ')\n",
    "            status = '[{}]'.format(','.join([json.dumps(s) for s in status]))\n",
    "            new_row['status'] = status\n",
    "            new_row['memberSince'] = row['Member Since'].split(' ')[1]\n",
    "\n",
    "            writer.writerow(new_row)"
   ]
  },
  {
   "cell_type": "code",
   "execution_count": 4,
   "metadata": {},
   "outputs": [],
   "source": [
    "# Clean notion export to fit Wix import mechanics\n",
    "import csv\n",
    "import re\n",
    "import json\n",
    "\n",
    "prefix = 'https://www.notion.so/'\n",
    "\n",
    "with open('projects.csv', 'r', encoding='utf-8-sig') as f:\n",
    "    with open('projects_new.csv', 'w', encoding='utf-8-sig') as file:\n",
    "        reader = csv.DictReader(f)\n",
    "\n",
    "        fieldnames = ['title', 'published', 'youtubeLink', 'team', 'runtime', 'genre', 'logline', 'poster', 'recommended', 'semester', 'semesterCreated', 'yearCreated']\n",
    "        writer = csv.DictWriter(file, fieldnames=fieldnames)\n",
    "        writer.writeheader()\n",
    "\n",
    "        for row in reader:\n",
    "            new_row = {}\n",
    "            # team = re.sub(prefix, '', row['Team']).split(', ')\n",
    "            team = row['Team'].split(',')\n",
    "            team = ','.join([' '.join(member.split(' ')[:-1]) for member in team])\n",
    "            new_row['team'] = team\n",
    "\n",
    "            genre = row['Genre'].split(',')\n",
    "            genre = '[{}]'.format(','.join([json.dumps(g.strip()) for g in genre]))\n",
    "            # print(genre)\n",
    "            # break\n",
    "            new_row['genre'] = genre\n",
    "            \n",
    "            semester = row['Semester'].split(' ')\n",
    "            new_row['semesterCreated'] = semester[0]\n",
    "            new_row['yearCreated'] = semester[1]\n",
    "\n",
    "            new_row['title'] = row['Title']\n",
    "            new_row['semester'] = row['Semester']\n",
    "            new_row['published'] = 'true' if row['Published?'] == 'Yes' else 'false'\n",
    "            new_row['youtubeLink'] = row['Youtube Link']\n",
    "            new_row['runtime'] = row['Runtime']\n",
    "            new_row['logline'] = row['Logline']\n",
    "            new_row['poster'] = row['Poster']\n",
    "            new_row['recommended'] = 'true' if row['Feature?'] == 'Yes' else 'false'\n",
    "            writer.writerow(new_row)"
   ]
  },
  {
   "cell_type": "code",
   "execution_count": null,
   "metadata": {},
   "outputs": [],
   "source": []
  }
 ],
 "metadata": {
  "kernelspec": {
   "display_name": "Python 3",
   "language": "python",
   "name": "python3"
  },
  "language_info": {
   "codemirror_mode": {
    "name": "ipython",
    "version": 3
   },
   "file_extension": ".py",
   "mimetype": "text/x-python",
   "name": "python",
   "nbconvert_exporter": "python",
   "pygments_lexer": "ipython3",
   "version": "3.10.13"
  },
  "orig_nbformat": 4,
  "vscode": {
   "interpreter": {
    "hash": "b0fa6594d8f4cbf19f97940f81e996739fb7646882a419484c72d19e05852a7e"
   }
  }
 },
 "nbformat": 4,
 "nbformat_minor": 2
}
